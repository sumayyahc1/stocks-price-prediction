{
 "cells": [
  {
   "cell_type": "markdown",
   "id": "c8b34d62",
   "metadata": {},
   "source": [
    "# Stock Market Price Prediction\n",
    "## Time Series Forecasting with RNN\n",
    "\n",
    "We will use a Recurrent Neural Network model to predict stock prices based on historical stock price data."
   ]
  },
  {
   "cell_type": "markdown",
   "id": "c7bd43f9",
   "metadata": {},
   "source": [
    "### Importing required packages"
   ]
  },
  {
   "cell_type": "code",
   "execution_count": 55,
   "id": "024bf60a",
   "metadata": {},
   "outputs": [],
   "source": [
    "import matplotlib.pyplot as plt\n",
    "import numpy as np\n",
    "import pandas as pd\n",
    "\n",
    "import tensorflow as tf\n",
    "from tensorflow.keras.models import Sequential\n",
    "from tensorflow.keras.layers import LSTM, Dense, Conv1D\n",
    "from sklearn.preprocessing import MinMaxScaler"
   ]
  },
  {
   "cell_type": "markdown",
   "id": "4413d55b",
   "metadata": {},
   "source": [
    "### Reading dataset\n",
    "Let's take a look at the first few rows of the dataset and check if the data has any missing values."
   ]
  },
  {
   "cell_type": "code",
   "execution_count": 56,
   "id": "5e1a50f1",
   "metadata": {},
   "outputs": [
    {
     "name": "stdout",
     "output_type": "stream",
     "text": [
      "<class 'pandas.core.frame.DataFrame'>\n",
      "DatetimeIndex: 1237 entries, 2012-01-03 to 2016-11-30\n",
      "Data columns (total 5 columns):\n",
      " #   Column  Non-Null Count  Dtype  \n",
      "---  ------  --------------  -----  \n",
      " 0   Open    1237 non-null   float64\n",
      " 1   High    1237 non-null   float64\n",
      " 2   Low     1237 non-null   float64\n",
      " 3   Close   1237 non-null   object \n",
      " 4   Volume  1237 non-null   object \n",
      "dtypes: float64(3), object(2)\n",
      "memory usage: 58.0+ KB\n"
     ]
    }
   ],
   "source": [
    "df = pd.read_csv('data.csv')\n",
    "# Convert date to datetime format and set index to Date\n",
    "df['Date'] = pd.to_datetime(df.Date)\n",
    "df = df.set_index('Date')\n",
    "df.info()"
   ]
  },
  {
   "cell_type": "markdown",
   "id": "667956a9",
   "metadata": {},
   "source": [
    "We can see that there are no missing values.\n",
    "\n",
    "We need to convert the Close and Volume columns to float format."
   ]
  },
  {
   "cell_type": "code",
   "execution_count": 57,
   "id": "c9d250aa",
   "metadata": {},
   "outputs": [
    {
     "data": {
      "text/html": [
       "<div>\n",
       "<style scoped>\n",
       "    .dataframe tbody tr th:only-of-type {\n",
       "        vertical-align: middle;\n",
       "    }\n",
       "\n",
       "    .dataframe tbody tr th {\n",
       "        vertical-align: top;\n",
       "    }\n",
       "\n",
       "    .dataframe thead th {\n",
       "        text-align: right;\n",
       "    }\n",
       "</style>\n",
       "<table border=\"1\" class=\"dataframe\">\n",
       "  <thead>\n",
       "    <tr style=\"text-align: right;\">\n",
       "      <th></th>\n",
       "      <th>Open</th>\n",
       "      <th>High</th>\n",
       "      <th>Low</th>\n",
       "      <th>Close</th>\n",
       "      <th>Volume</th>\n",
       "    </tr>\n",
       "    <tr>\n",
       "      <th>Date</th>\n",
       "      <th></th>\n",
       "      <th></th>\n",
       "      <th></th>\n",
       "      <th></th>\n",
       "      <th></th>\n",
       "    </tr>\n",
       "  </thead>\n",
       "  <tbody>\n",
       "    <tr>\n",
       "      <th>2012-01-03</th>\n",
       "      <td>325.25</td>\n",
       "      <td>332.83</td>\n",
       "      <td>324.97</td>\n",
       "      <td>663.59</td>\n",
       "      <td>7380500.0</td>\n",
       "    </tr>\n",
       "    <tr>\n",
       "      <th>2012-01-04</th>\n",
       "      <td>331.27</td>\n",
       "      <td>333.87</td>\n",
       "      <td>329.08</td>\n",
       "      <td>666.45</td>\n",
       "      <td>5749400.0</td>\n",
       "    </tr>\n",
       "    <tr>\n",
       "      <th>2012-01-05</th>\n",
       "      <td>329.83</td>\n",
       "      <td>330.75</td>\n",
       "      <td>326.89</td>\n",
       "      <td>657.21</td>\n",
       "      <td>6590300.0</td>\n",
       "    </tr>\n",
       "    <tr>\n",
       "      <th>2012-01-06</th>\n",
       "      <td>328.34</td>\n",
       "      <td>328.77</td>\n",
       "      <td>323.68</td>\n",
       "      <td>648.24</td>\n",
       "      <td>5405900.0</td>\n",
       "    </tr>\n",
       "    <tr>\n",
       "      <th>2012-01-09</th>\n",
       "      <td>322.04</td>\n",
       "      <td>322.29</td>\n",
       "      <td>309.46</td>\n",
       "      <td>620.76</td>\n",
       "      <td>11688800.0</td>\n",
       "    </tr>\n",
       "  </tbody>\n",
       "</table>\n",
       "</div>"
      ],
      "text/plain": [
       "              Open    High     Low   Close      Volume\n",
       "Date                                                  \n",
       "2012-01-03  325.25  332.83  324.97  663.59   7380500.0\n",
       "2012-01-04  331.27  333.87  329.08  666.45   5749400.0\n",
       "2012-01-05  329.83  330.75  326.89  657.21   6590300.0\n",
       "2012-01-06  328.34  328.77  323.68  648.24   5405900.0\n",
       "2012-01-09  322.04  322.29  309.46  620.76  11688800.0"
      ]
     },
     "execution_count": 57,
     "metadata": {},
     "output_type": "execute_result"
    }
   ],
   "source": [
    "df['Close'] = df['Close'].replace({',': ''}, regex=True).astype(float)\n",
    "df['Volume'] = df['Volume'].replace({',': ''}, regex=True).astype(float)\n",
    "df.head()"
   ]
  },
  {
   "cell_type": "markdown",
   "id": "ebfcf82c",
   "metadata": {},
   "source": [
    "### Preparing training and test data\n",
    "We shall extract the last two weeks records into the test dataset, as well as the two weeks prior to that as the model will predict the stock price on a certain day based on the previous two weeks' data."
   ]
  },
  {
   "cell_type": "code",
   "execution_count": 58,
   "id": "2cdfc9d6",
   "metadata": {},
   "outputs": [],
   "source": [
    "test_df = df.last('30D')\n",
    "train_df = df.drop(test_df.index, axis=0)"
   ]
  },
  {
   "cell_type": "markdown",
   "id": "acbae869",
   "metadata": {},
   "source": [
    "We will use the 'Close' column to train the model."
   ]
  },
  {
   "cell_type": "code",
   "execution_count": 59,
   "id": "51cbe1bf",
   "metadata": {},
   "outputs": [],
   "source": [
    "train = train_df['Close'].values.reshape(-1,1)\n",
    "test = test_df['Close'].values.reshape(-1,1)"
   ]
  },
  {
   "cell_type": "markdown",
   "id": "118836fc",
   "metadata": {},
   "source": [
    "### Scaling and reshaping data\n",
    "We will the scale the data to values between 0 and 1 for better performance of the model."
   ]
  },
  {
   "cell_type": "code",
   "execution_count": 60,
   "id": "bb5509ef",
   "metadata": {},
   "outputs": [],
   "source": [
    "scaler = MinMaxScaler(feature_range=(0, 1))\n",
    "train_scaled = scaler.fit_transform(train)\n",
    "test_scaled = scaler.fit_transform(test)"
   ]
  },
  {
   "cell_type": "markdown",
   "id": "7639f33c",
   "metadata": {},
   "source": [
    "We will format the data into a 3D array and take a timestep of 10 elements. The 10 previous records will be used by the model to predict the next one."
   ]
  },
  {
   "cell_type": "code",
   "execution_count": 61,
   "id": "8ef15688",
   "metadata": {},
   "outputs": [],
   "source": [
    "trainX = []\n",
    "trainY = []\n",
    "testX = []\n",
    "testY = []\n",
    "\n",
    "# Create the training dataset\n",
    "for i in range(len(train) - 11):\n",
    "    trainX.append(train_scaled[i:i+10, 0])\n",
    "    trainY.append([train_scaled[i+10, 0]])\n",
    "trainX = np.array(trainX)\n",
    "trainY =  np.array(trainY)\n",
    "\n",
    "# Create the testing dataset\n",
    "for i in range(len(test) - 11):\n",
    "    testX.append(test_scaled[i:i+10, 0])\n",
    "    testY.append([test_scaled[i+10, 0]])\n",
    "testX = np.array(testX)\n",
    "testY = np.array(testY)\n",
    "\n",
    "# Convert the training and testing data into a 3-d shape for input\n",
    "trainX = trainX.reshape(trainX.shape[0], trainX.shape[1], 1)\n",
    "testX = testX.reshape(testX.shape[0], testX.shape[1], 1)"
   ]
  },
  {
   "cell_type": "markdown",
   "id": "1d0ea755",
   "metadata": {},
   "source": [
    "### Creating and compiling RNN model\n",
    "We will create a simple RNN model using LSTMs."
   ]
  },
  {
   "cell_type": "code",
   "execution_count": 62,
   "id": "d34a5709",
   "metadata": {},
   "outputs": [
    {
     "name": "stdout",
     "output_type": "stream",
     "text": [
      "Model: \"sequential_5\"\n",
      "_________________________________________________________________\n",
      " Layer (type)                Output Shape              Param #   \n",
      "=================================================================\n",
      " lstm_15 (LSTM)              (None, 10, 50)            10400     \n",
      "                                                                 \n",
      " lstm_16 (LSTM)              (None, 10, 50)            20200     \n",
      "                                                                 \n",
      " lstm_17 (LSTM)              (None, 50)                20200     \n",
      "                                                                 \n",
      " dropout_4 (Dropout)         (None, 50)                0         \n",
      "                                                                 \n",
      " dense_5 (Dense)             (None, 1)                 51        \n",
      "                                                                 \n",
      "=================================================================\n",
      "Total params: 50,851\n",
      "Trainable params: 50,851\n",
      "Non-trainable params: 0\n",
      "_________________________________________________________________\n"
     ]
    }
   ],
   "source": [
    "model = Sequential()\n",
    "\n",
    "model.add(LSTM(50, activation='relu', return_sequences=True,input_shape=(trainX.shape[1],1)))\n",
    "model.add(LSTM(50, return_sequences=True))\n",
    "model.add(LSTM(50))\n",
    "model.add(tf.keras.layers.Dropout(0.2))\n",
    "model.add(Dense(1))\n",
    "\n",
    "model.summary()"
   ]
  },
  {
   "cell_type": "markdown",
   "id": "fe5cd520",
   "metadata": {},
   "source": [
    "The model is compiled with 'Adam' optimizer. We are using the Mean Squared Error metric to compute loss."
   ]
  },
  {
   "cell_type": "code",
   "execution_count": 63,
   "id": "4b74a1a9",
   "metadata": {},
   "outputs": [],
   "source": [
    "model.compile(optimizer='adam',\n",
    "              loss='mean_squared_error', \n",
    "              metrics=['accuracy', 'mse'])"
   ]
  },
  {
   "cell_type": "markdown",
   "id": "4420ae86",
   "metadata": {},
   "source": [
    "### Training the model"
   ]
  },
  {
   "cell_type": "code",
   "execution_count": 64,
   "id": "60539d0f",
   "metadata": {},
   "outputs": [
    {
     "name": "stdout",
     "output_type": "stream",
     "text": [
      "Epoch 1/40\n",
      "38/38 [==============================] - 15s 32ms/step - loss: 0.0359 - accuracy: 0.0017 - mse: 0.0359\n",
      "Epoch 2/40\n",
      "38/38 [==============================] - 1s 31ms/step - loss: 0.0068 - accuracy: 0.0017 - mse: 0.0068\n",
      "Epoch 3/40\n",
      "38/38 [==============================] - 1s 39ms/step - loss: 0.0059 - accuracy: 0.0017 - mse: 0.0059\n",
      "Epoch 4/40\n",
      "38/38 [==============================] - 2s 40ms/step - loss: 0.0052 - accuracy: 0.0017 - mse: 0.0052\n",
      "Epoch 5/40\n",
      "38/38 [==============================] - 2s 60ms/step - loss: 0.0053 - accuracy: 0.0017 - mse: 0.0053\n",
      "Epoch 6/40\n",
      "38/38 [==============================] - 2s 44ms/step - loss: 0.0048 - accuracy: 0.0017 - mse: 0.0048\n",
      "Epoch 7/40\n",
      "38/38 [==============================] - 1s 35ms/step - loss: 0.0044 - accuracy: 0.0017 - mse: 0.0044\n",
      "Epoch 8/40\n",
      "38/38 [==============================] - 1s 37ms/step - loss: 0.0049 - accuracy: 0.0017 - mse: 0.0049\n",
      "Epoch 9/40\n",
      "38/38 [==============================] - 1s 40ms/step - loss: 0.0039 - accuracy: 0.0017 - mse: 0.0039\n",
      "Epoch 10/40\n",
      "38/38 [==============================] - 2s 44ms/step - loss: 0.0033 - accuracy: 0.0017 - mse: 0.0033\n",
      "Epoch 11/40\n",
      "38/38 [==============================] - 2s 47ms/step - loss: 0.0038 - accuracy: 0.0017 - mse: 0.0038\n",
      "Epoch 12/40\n",
      "38/38 [==============================] - 2s 50ms/step - loss: 0.0047 - accuracy: 0.0017 - mse: 0.0047\n",
      "Epoch 13/40\n",
      "38/38 [==============================] - 2s 42ms/step - loss: 0.0034 - accuracy: 0.0017 - mse: 0.0034\n",
      "Epoch 14/40\n",
      "38/38 [==============================] - 2s 47ms/step - loss: 0.0035 - accuracy: 0.0017 - mse: 0.0035\n",
      "Epoch 15/40\n",
      "38/38 [==============================] - 2s 45ms/step - loss: 0.0037 - accuracy: 0.0017 - mse: 0.0037\n",
      "Epoch 16/40\n",
      "38/38 [==============================] - 2s 49ms/step - loss: 0.0030 - accuracy: 0.0017 - mse: 0.0030\n",
      "Epoch 17/40\n",
      "38/38 [==============================] - 2s 57ms/step - loss: 0.0033 - accuracy: 0.0017 - mse: 0.0033\n",
      "Epoch 18/40\n",
      "38/38 [==============================] - 2s 53ms/step - loss: 0.0029 - accuracy: 0.0017 - mse: 0.0029\n",
      "Epoch 19/40\n",
      "38/38 [==============================] - 2s 42ms/step - loss: 0.0034 - accuracy: 0.0017 - mse: 0.0034\n",
      "Epoch 20/40\n",
      "38/38 [==============================] - 1s 38ms/step - loss: 0.0027 - accuracy: 0.0017 - mse: 0.0027\n",
      "Epoch 21/40\n",
      "38/38 [==============================] - 2s 40ms/step - loss: 0.0026 - accuracy: 0.0017 - mse: 0.0026\n",
      "Epoch 22/40\n",
      "38/38 [==============================] - 1s 38ms/step - loss: 0.0023 - accuracy: 0.0017 - mse: 0.0023\n",
      "Epoch 23/40\n",
      "38/38 [==============================] - 1s 35ms/step - loss: 0.0026 - accuracy: 0.0017 - mse: 0.0026\n",
      "Epoch 24/40\n",
      "38/38 [==============================] - 2s 46ms/step - loss: 0.0027 - accuracy: 0.0017 - mse: 0.0027\n",
      "Epoch 25/40\n",
      "38/38 [==============================] - 2s 50ms/step - loss: 0.0026 - accuracy: 0.0017 - mse: 0.0026\n",
      "Epoch 26/40\n",
      "38/38 [==============================] - 2s 44ms/step - loss: 0.0027 - accuracy: 0.0017 - mse: 0.0027\n",
      "Epoch 27/40\n",
      "38/38 [==============================] - 2s 44ms/step - loss: 0.0024 - accuracy: 0.0017 - mse: 0.0024\n",
      "Epoch 28/40\n",
      "38/38 [==============================] - 2s 43ms/step - loss: 0.0022 - accuracy: 0.0017 - mse: 0.0022\n",
      "Epoch 29/40\n",
      "38/38 [==============================] - 2s 45ms/step - loss: 0.0028 - accuracy: 0.0017 - mse: 0.0028\n",
      "Epoch 30/40\n",
      "38/38 [==============================] - 1s 37ms/step - loss: 0.0022 - accuracy: 0.0017 - mse: 0.0022\n",
      "Epoch 31/40\n",
      "38/38 [==============================] - 1s 34ms/step - loss: 0.0022 - accuracy: 0.0017 - mse: 0.0022\n",
      "Epoch 32/40\n",
      "38/38 [==============================] - 1s 38ms/step - loss: 0.0022 - accuracy: 0.0017 - mse: 0.0022\n",
      "Epoch 33/40\n",
      "38/38 [==============================] - 1s 37ms/step - loss: 0.0017 - accuracy: 0.0017 - mse: 0.0017\n",
      "Epoch 34/40\n",
      "38/38 [==============================] - 1s 40ms/step - loss: 0.0022 - accuracy: 0.0017 - mse: 0.0022\n",
      "Epoch 35/40\n",
      "38/38 [==============================] - 1s 37ms/step - loss: 0.0023 - accuracy: 0.0017 - mse: 0.0023\n",
      "Epoch 36/40\n",
      "38/38 [==============================] - 1s 32ms/step - loss: 0.0019 - accuracy: 0.0017 - mse: 0.0019\n",
      "Epoch 37/40\n",
      "38/38 [==============================] - 1s 33ms/step - loss: 0.0020 - accuracy: 0.0017 - mse: 0.0020\n",
      "Epoch 38/40\n",
      "38/38 [==============================] - 1s 38ms/step - loss: 0.0021 - accuracy: 0.0017 - mse: 0.0021\n",
      "Epoch 39/40\n",
      "38/38 [==============================] - 2s 40ms/step - loss: 0.0018 - accuracy: 0.0017 - mse: 0.0018\n",
      "Epoch 40/40\n",
      "38/38 [==============================] - 1s 38ms/step - loss: 0.0019 - accuracy: 0.0017 - mse: 0.0019\n"
     ]
    },
    {
     "data": {
      "text/plain": [
       "<keras.callbacks.History at 0x1c955dce7c0>"
      ]
     },
     "execution_count": 64,
     "metadata": {},
     "output_type": "execute_result"
    }
   ],
   "source": [
    "model.fit(trainX, \n",
    "          trainY, \n",
    "          epochs=40, \n",
    "          batch_size=32, \n",
    "          verbose=1)"
   ]
  },
  {
   "cell_type": "markdown",
   "id": "3e2f95df",
   "metadata": {},
   "source": [
    "### Making Predictions\n",
    "Using the trained model, we'll forecast stock prices for the next two weeks."
   ]
  },
  {
   "cell_type": "code",
   "execution_count": 71,
   "id": "ce4aa8a5",
   "metadata": {},
   "outputs": [
    {
     "name": "stdout",
     "output_type": "stream",
     "text": [
      "1/1 [==============================] - 0s 56ms/step\n"
     ]
    },
    {
     "data": {
      "text/plain": [
       "array([[750.3924 ],\n",
       "       [748.22504],\n",
       "       [750.1842 ],\n",
       "       [754.5523 ],\n",
       "       [758.0443 ],\n",
       "       [761.4277 ],\n",
       "       [763.4864 ],\n",
       "       [762.8525 ],\n",
       "       [762.37244],\n",
       "       [763.69293]], dtype=float32)"
      ]
     },
     "execution_count": 71,
     "metadata": {},
     "output_type": "execute_result"
    }
   ],
   "source": [
    "test_pred = model.predict(testX)\n",
    "test_pred = scaler.inverse_transform(test_pred)\n",
    "test_actual = scaler.inverse_transform(testY)\n",
    "test_pred"
   ]
  },
  {
   "cell_type": "markdown",
   "id": "561cd8d3",
   "metadata": {},
   "source": [
    "### Saving the results\n",
    "The predicted stock prices are output to result.csv file."
   ]
  },
  {
   "cell_type": "code",
   "execution_count": 72,
   "id": "1134855c",
   "metadata": {},
   "outputs": [],
   "source": [
    "np.savetxt('result.csv', test_pred, delimiter=\",\")"
   ]
  },
  {
   "cell_type": "markdown",
   "id": "4aeeb0fc",
   "metadata": {},
   "source": [
    "### Evaluating the model"
   ]
  },
  {
   "cell_type": "code",
   "execution_count": 73,
   "id": "0b806e72",
   "metadata": {},
   "outputs": [
    {
     "name": "stdout",
     "output_type": "stream",
     "text": [
      "Test loss (Mean Squared Error): 0.03621643781661987\n",
      "Test accuracy: 0.0\n"
     ]
    }
   ],
   "source": [
    "score = model.evaluate(testX, testY, verbose=0) \n",
    "\n",
    "print('Test loss (Mean Squared Error):', score[0]) \n",
    "print('Test accuracy:', score[1])"
   ]
  },
  {
   "cell_type": "markdown",
   "id": "15744f25",
   "metadata": {},
   "source": [
    "Let's plot the predicted stock prices against the actual ones."
   ]
  },
  {
   "cell_type": "code",
   "execution_count": 74,
   "id": "fe33c845",
   "metadata": {},
   "outputs": [
    {
     "data": {
      "image/png": "[encoded data removed]",
      "text/plain": [
       "<Figure size 640x480 with 1 Axes>"
      ]
     },
     "metadata": {},
     "output_type": "display_data"
    }
   ],
   "source": [
    "plt.plot(test_actual, color = 'blue', label = 'Real Stock Price')\n",
    "plt.plot(test_pred, color = 'green', label = 'Predicted Stock Price')\n",
    "plt.title('Stock Price Prediction')\n",
    "plt.xlabel('Day')\n",
    "plt.ylabel('Stock Price')\n",
    "plt.legend()\n",
    "plt.show()"
   ]
  }
 ],
 "metadata": {
  "kernelspec": {
   "display_name": "Python 3 (ipykernel)",
   "language": "python",
   "name": "python3"
  },
  "language_info": {
   "codemirror_mode": {
    "name": "ipython",
    "version": 3
   },
   "file_extension": ".py",
   "mimetype": "text/x-python",
   "name": "python",
   "nbconvert_exporter": "python",
   "pygments_lexer": "ipython3",
   "version": "3.8.12"
  }
 },
 "nbformat": 4,
 "nbformat_minor": 5
}
